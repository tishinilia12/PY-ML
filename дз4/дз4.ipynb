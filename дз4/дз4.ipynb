{
 "cells": [
  {
   "cell_type": "code",
   "execution_count": 24,
   "metadata": {},
   "outputs": [
    {
     "name": "stdout",
     "output_type": "stream",
     "text": [
      "Index(['pclass', 'survived', 'name', 'sex', 'age', 'sibsp', 'parch', 'ticket',\n",
      "       'fare', 'cabin', 'embarked', 'PassengerId'],\n",
      "      dtype='object')\n",
      "Index(['PassengerId', 'Pclass', 'Name', 'Sex', 'Age', 'SibSp', 'Parch',\n",
      "       'Ticket', 'Fare', 'Cabin', 'Embarked', 'Survived'],\n",
      "      dtype='object')\n",
      "1\n"
     ]
    },
    {
     "name": "stderr",
     "output_type": "stream",
     "text": [
      "C:\\ProgramData\\Anaconda3\\lib\\site-packages\\ipykernel_launcher.py:33: SettingWithCopyWarning: \n",
      "A value is trying to be set on a copy of a slice from a DataFrame\n",
      "\n",
      "See the caveats in the documentation: http://pandas.pydata.org/pandas-docs/stable/indexing.html#indexing-view-versus-copy\n",
      "C:\\ProgramData\\Anaconda3\\lib\\site-packages\\ipykernel_launcher.py:42: SettingWithCopyWarning: \n",
      "A value is trying to be set on a copy of a slice from a DataFrame\n",
      "\n",
      "See the caveats in the documentation: http://pandas.pydata.org/pandas-docs/stable/indexing.html#indexing-view-versus-copy\n",
      "C:\\ProgramData\\Anaconda3\\lib\\site-packages\\ipykernel_launcher.py:49: SettingWithCopyWarning: \n",
      "A value is trying to be set on a copy of a slice from a DataFrame\n",
      "\n",
      "See the caveats in the documentation: http://pandas.pydata.org/pandas-docs/stable/indexing.html#indexing-view-versus-copy\n"
     ]
    },
    {
     "name": "stdout",
     "output_type": "stream",
     "text": [
      "   Pclass  Survived  Name  Sex  Age  Sibsp  Parch  Ticket  Fare  Cabin  \\\n",
      "0       1         1    29    1   29      0      0   24160   211      1   \n",
      "1       1         1    30    0    0      1      2  113781   151      1   \n",
      "2       1         0    28    1    2      1      2  113781   151      1   \n",
      "3       1         0    36    0   30      1      2  113781   151      1   \n",
      "4       1         0    47    1   25      1      2  113781   151      1   \n",
      "\n",
      "   Embarked  PassengerId  ChAge      Age1  Pclass1  ChFare  Embarked1  \n",
      "0         1            0      1  841.0000        1       1          1  \n",
      "1         1            0      1    0.8464        1       1          1  \n",
      "2         1            0      1    4.0000        1       1          1  \n",
      "3         1            0      1  900.0000        1       1          1  \n",
      "4         1            0      1  625.0000        1       1          1  \n",
      "1\n",
      "Fitting 5 folds for each of 160 candidates, totalling 800 fits\n"
     ]
    },
    {
     "name": "stderr",
     "output_type": "stream",
     "text": [
      "[Parallel(n_jobs=1)]: Using backend SequentialBackend with 1 concurrent workers.\n",
      "[Parallel(n_jobs=1)]: Done 800 out of 800 | elapsed:   43.2s finished\n"
     ]
    },
    {
     "name": "stdout",
     "output_type": "stream",
     "text": [
      "1\n"
     ]
    }
   ],
   "source": [
    "%matplotlib inline\n",
    "from sklearn.model_selection import GridSearchCV\n",
    "import matplotlib.pyplot as plt\n",
    "import numpy as np\n",
    "import pandas as pd\n",
    "import pandas as pd\n",
    "import seaborn as sns\n",
    "import math as mt\n",
    "from sklearn.preprocessing import StandardScaler\n",
    "from sklearn.linear_model import LogisticRegression\n",
    "from sklearn.neighbors import KNeighborsClassifier\n",
    "import os\n",
    "# Any results you write to the current directory are saved as output.\n",
    "sample= pd.read_csv(\"sample_submission.csv\")\n",
    "train= pd.read_csv(\"train.csv\")\n",
    "test= pd.read_csv(\"test.csv\")\n",
    "cheat=pd.read_csv(\"titanic.csv\")\n",
    "drop_elements = [ 'boat','body','home.dest']\n",
    "cheat = cheat.drop(drop_elements, axis = 1)\n",
    "cheat['PassengerId']=0;\n",
    "print(cheat.columns)\n",
    "print(train.columns)\n",
    "cheat.columns=['Pclass', 'Survived', 'Name', 'Sex', 'Age', 'Sibsp', 'Parch', 'Ticket',\n",
    "       'Fare', 'Cabin', 'Embarked', 'PassengerId']\n",
    "train=cheat\n",
    "\n",
    "full_data = [train, test]\n",
    "print(1)\n",
    "for data in full_data:\n",
    "    data['Sex']=data['Sex'].map( {'female': 1, 'male': 0} ).astype(int)\n",
    "    data['ChAge']=data[\"Age\"].apply(lambda x: 0 if mt.isnan(x) else 1)\n",
    "    data['Cabin'] = data[\"Cabin\"].apply(lambda x: 0 if type(x) == float else 1)\n",
    "    data['Age'][np.isnan(data['Age'])]=data['Age'].mean()\n",
    "    data['Name']=data['Name'].apply(len)\n",
    "    avg = data['Age'].mean()\n",
    "    std = data['Age'].std()\n",
    "    data['Age1']=data['Age']**2\n",
    "    data['Pclass1']=data['Pclass'].apply(lambda x: 0 if x == 3 else 1)\n",
    "    data['Pclass']=data['Pclass'].apply(lambda x: 0 if x == 2 else 1)\n",
    "    null_count = data['Age'].isnull().sum()\n",
    "    null_random_list = np.random.randint(avg - std, avg + std, size=null_count)\n",
    "    data['Age'][np.isnan(data['Age'])] = null_random_list\n",
    "    data['Age'] = data['Age'].astype(int)\n",
    "    data['ChFare']=data[\"Fare\"].apply(lambda x: 0 if mt.isnan(x) else 1)\n",
    "    avg = data['Fare'].mean()\n",
    "    std = data['Fare'].std()\n",
    "    null_count = data['Fare'].isnull().sum()\n",
    "    null_random_list = np.random.randint(avg - std, avg + std, size=null_count)\n",
    "    data['Fare'][np.isnan(data['Fare'])] = null_random_list\n",
    "    data['Fare'] = data['Fare'].astype(int)\n",
    "    data['Embarked1']=data['Embarked'].apply(lambda x: 0 if x == 'C' else 1)\n",
    "    data['Embarked']=data['Embarked'].apply(lambda x: 0 if x == 'Q' else 1)\n",
    "drop_elements = [ 'Ticket','PassengerId']\n",
    "print(train.head())\n",
    "test1 = test.drop(drop_elements, axis = 1)\n",
    "train1 = train.drop(drop_elements, axis = 1)\n",
    "y_train = train1['Survived'].ravel()\n",
    "x_train = train1.drop(['Survived'], axis=1).values\n",
    "x_test=test1.values\n",
    "\n",
    "scaler = StandardScaler()\n",
    "scaler.fit(x_train)\n",
    "x_train = scaler.transform(x_train)\n",
    "x_test = scaler.transform(x_test)\n",
    "print(1)\n",
    "clf = KNeighborsClassifier()\n",
    "params = {'n_neighbors':[2,3,4,5,6,7,8,9,10,11,12,14,15,16,18,20],'leaf_size':list(range(1,50,5))}\n",
    "\n",
    "logi = GridSearchCV(clf, param_grid= params, cv = 5,scoring = \"roc_auc\",verbose=1)\n",
    "logi.fit(x_train, y_train)\n",
    "\n",
    "\n",
    "\n",
    "result = logi.predict(x_test)\n",
    "test['Survived']=result\n",
    "print(1)\n",
    "#sns.countplot(x = 'Tmp', data = train, hue = 'Survived')\n",
    "#sns.countplot(x = 'Tmp', data = test, hue = 'Survived')\n",
    "#print(train.head())\n",
    "sample=test[['PassengerId','Survived']]\n",
    "sample.to_csv('sample.csv', index=False)\n"
   ]
  },
  {
   "cell_type": "code",
   "execution_count": null,
   "metadata": {},
   "outputs": [],
   "source": []
  }
 ],
 "metadata": {
  "kernelspec": {
   "display_name": "Python 3",
   "language": "python",
   "name": "python3"
  },
  "language_info": {
   "codemirror_mode": {
    "name": "ipython",
    "version": 3
   },
   "file_extension": ".py",
   "mimetype": "text/x-python",
   "name": "python",
   "nbconvert_exporter": "python",
   "pygments_lexer": "ipython3",
   "version": "3.7.3"
  }
 },
 "nbformat": 4,
 "nbformat_minor": 2
}
