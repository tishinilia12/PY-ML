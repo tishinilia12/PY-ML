{
 "cells": [
  {
   "cell_type": "markdown",
   "metadata": {},
   "source": [
    "1. Скачать файл по ссылке https://cloud.mail.ru/public/5EMp/5ePzqmXAp - там находятся csv-файлы для выполнения задания."
   ]
  },
  {
   "cell_type": "markdown",
   "metadata": {},
   "source": [
    "2. Импортировать датасет из файла 'restaurants.csv' и присвоить его переменной (например, переменной df)."
   ]
  },
  {
   "cell_type": "code",
   "execution_count": 19,
   "metadata": {},
   "outputs": [],
   "source": [
    "import pandas as pd\n",
    "df=pd.read_csv(\"restaurants.csv\")"
   ]
  },
  {
   "cell_type": "markdown",
   "metadata": {},
   "source": [
    "3. Вывести первые 10 строк датафрейма. Изучить структуру таблицы."
   ]
  },
  {
   "cell_type": "code",
   "execution_count": 18,
   "metadata": {},
   "outputs": [
    {
     "data": {
      "text/html": [
       "<div>\n",
       "<style scoped>\n",
       "    .dataframe tbody tr th:only-of-type {\n",
       "        vertical-align: middle;\n",
       "    }\n",
       "\n",
       "    .dataframe tbody tr th {\n",
       "        vertical-align: top;\n",
       "    }\n",
       "\n",
       "    .dataframe thead th {\n",
       "        text-align: right;\n",
       "    }\n",
       "</style>\n",
       "<table border=\"1\" class=\"dataframe\">\n",
       "  <thead>\n",
       "    <tr style=\"text-align: right;\">\n",
       "      <th></th>\n",
       "      <th>vendor_id</th>\n",
       "      <th>chain_id</th>\n",
       "      <th>city_name</th>\n",
       "      <th>specialisation</th>\n",
       "      <th>successful_orders</th>\n",
       "      <th>fail_orders</th>\n",
       "      <th>reorders</th>\n",
       "    </tr>\n",
       "  </thead>\n",
       "  <tbody>\n",
       "    <tr>\n",
       "      <th>0</th>\n",
       "      <td>28957</td>\n",
       "      <td>20633</td>\n",
       "      <td>Архангельск</td>\n",
       "      <td>Супы</td>\n",
       "      <td>0.0</td>\n",
       "      <td>2.0</td>\n",
       "      <td>0.0</td>\n",
       "    </tr>\n",
       "    <tr>\n",
       "      <th>1</th>\n",
       "      <td>37381</td>\n",
       "      <td>27399</td>\n",
       "      <td>Архангельск</td>\n",
       "      <td>Пироги</td>\n",
       "      <td>0.0</td>\n",
       "      <td>0.0</td>\n",
       "      <td>0.0</td>\n",
       "    </tr>\n",
       "    <tr>\n",
       "      <th>2</th>\n",
       "      <td>28703</td>\n",
       "      <td>20431</td>\n",
       "      <td>Архангельск</td>\n",
       "      <td>Суши</td>\n",
       "      <td>111.0</td>\n",
       "      <td>3.0</td>\n",
       "      <td>0.0</td>\n",
       "    </tr>\n",
       "    <tr>\n",
       "      <th>3</th>\n",
       "      <td>37382</td>\n",
       "      <td>27399</td>\n",
       "      <td>Архангельск</td>\n",
       "      <td>Пироги</td>\n",
       "      <td>1.0</td>\n",
       "      <td>0.0</td>\n",
       "      <td>0.0</td>\n",
       "    </tr>\n",
       "    <tr>\n",
       "      <th>4</th>\n",
       "      <td>36877</td>\n",
       "      <td>27151</td>\n",
       "      <td>Архангельск</td>\n",
       "      <td>Бургеры</td>\n",
       "      <td>22.0</td>\n",
       "      <td>2.0</td>\n",
       "      <td>0.0</td>\n",
       "    </tr>\n",
       "    <tr>\n",
       "      <th>5</th>\n",
       "      <td>37650</td>\n",
       "      <td>27579</td>\n",
       "      <td>Архангельск</td>\n",
       "      <td>Суши</td>\n",
       "      <td>3.0</td>\n",
       "      <td>0.0</td>\n",
       "      <td>0.0</td>\n",
       "    </tr>\n",
       "    <tr>\n",
       "      <th>6</th>\n",
       "      <td>37127</td>\n",
       "      <td>27250</td>\n",
       "      <td>Астрахань</td>\n",
       "      <td>Суши</td>\n",
       "      <td>55.0</td>\n",
       "      <td>5.0</td>\n",
       "      <td>6.0</td>\n",
       "    </tr>\n",
       "    <tr>\n",
       "      <th>7</th>\n",
       "      <td>28476</td>\n",
       "      <td>20266</td>\n",
       "      <td>Астрахань</td>\n",
       "      <td>Суши</td>\n",
       "      <td>342.0</td>\n",
       "      <td>13.0</td>\n",
       "      <td>14.0</td>\n",
       "    </tr>\n",
       "    <tr>\n",
       "      <th>8</th>\n",
       "      <td>28478</td>\n",
       "      <td>20266</td>\n",
       "      <td>Астрахань</td>\n",
       "      <td>Суши</td>\n",
       "      <td>194.0</td>\n",
       "      <td>1.0</td>\n",
       "      <td>7.0</td>\n",
       "    </tr>\n",
       "    <tr>\n",
       "      <th>9</th>\n",
       "      <td>34127</td>\n",
       "      <td>25077</td>\n",
       "      <td>Астрахань</td>\n",
       "      <td>Пицца</td>\n",
       "      <td>136.0</td>\n",
       "      <td>4.0</td>\n",
       "      <td>1.0</td>\n",
       "    </tr>\n",
       "  </tbody>\n",
       "</table>\n",
       "</div>"
      ],
      "text/plain": [
       "   vendor_id  chain_id    city_name specialisation  successful_orders  \\\n",
       "0      28957     20633  Архангельск           Супы                0.0   \n",
       "1      37381     27399  Архангельск         Пироги                0.0   \n",
       "2      28703     20431  Архангельск           Суши              111.0   \n",
       "3      37382     27399  Архангельск         Пироги                1.0   \n",
       "4      36877     27151  Архангельск        Бургеры               22.0   \n",
       "5      37650     27579  Архангельск           Суши                3.0   \n",
       "6      37127     27250    Астрахань           Суши               55.0   \n",
       "7      28476     20266    Астрахань           Суши              342.0   \n",
       "8      28478     20266    Астрахань           Суши              194.0   \n",
       "9      34127     25077    Астрахань          Пицца              136.0   \n",
       "\n",
       "   fail_orders  reorders  \n",
       "0          2.0       0.0  \n",
       "1          0.0       0.0  \n",
       "2          3.0       0.0  \n",
       "3          0.0       0.0  \n",
       "4          2.0       0.0  \n",
       "5          0.0       0.0  \n",
       "6          5.0       6.0  \n",
       "7         13.0      14.0  \n",
       "8          1.0       7.0  \n",
       "9          4.0       1.0  "
      ]
     },
     "execution_count": 18,
     "metadata": {},
     "output_type": "execute_result"
    }
   ],
   "source": [
    "import pandas as pd\n",
    "df=pd.read_csv(\"restaurants.csv\")\n",
    "df.head(10)"
   ]
  },
  {
   "cell_type": "markdown",
   "metadata": {},
   "source": [
    "Сколько в датафрейме колонок с типом float64?"
   ]
  },
  {
   "cell_type": "code",
   "execution_count": 16,
   "metadata": {},
   "outputs": [
    {
     "name": "stdout",
     "output_type": "stream",
     "text": [
      "<class 'pandas.core.frame.DataFrame'>\n",
      "RangeIndex: 784 entries, 0 to 783\n",
      "Data columns (total 7 columns):\n",
      "vendor_id            784 non-null int64\n",
      "chain_id             784 non-null int64\n",
      "city_name            784 non-null object\n",
      "specialisation       784 non-null object\n",
      "successful_orders    784 non-null float64\n",
      "fail_orders          784 non-null float64\n",
      "reorders             784 non-null float64\n",
      "dtypes: float64(3), int64(2), object(2)\n",
      "memory usage: 43.0+ KB\n",
      "None\n"
     ]
    }
   ],
   "source": [
    "import pandas as pd\n",
    "df=pd.read_csv(\"restaurants.csv\")\n",
    "print(df.info())"
   ]
  },
  {
   "cell_type": "markdown",
   "metadata": {},
   "source": [
    "Сколько наблюдений в датафрейме?\n"
   ]
  },
  {
   "cell_type": "code",
   "execution_count": 15,
   "metadata": {},
   "outputs": [
    {
     "name": "stdout",
     "output_type": "stream",
     "text": [
      "784\n"
     ]
    }
   ],
   "source": [
    "import pandas as pd\n",
    "df=pd.read_csv(\"restaurants.csv\")\n",
    "print(df.shape[0])"
   ]
  },
  {
   "cell_type": "markdown",
   "metadata": {},
   "source": [
    "Сколько наблюдений в датафрейме?\n"
   ]
  },
  {
   "cell_type": "code",
   "execution_count": 20,
   "metadata": {},
   "outputs": [
    {
     "name": "stdout",
     "output_type": "stream",
     "text": [
      "7\n"
     ]
    }
   ],
   "source": [
    "import pandas as pd\n",
    "df=pd.read_csv(\"restaurants.csv\")\n",
    "print(df.shape[1])"
   ]
  },
  {
   "cell_type": "markdown",
   "metadata": {},
   "source": [
    "Сколько уникальных городов в датафрейме?\n"
   ]
  },
  {
   "cell_type": "code",
   "execution_count": 29,
   "metadata": {},
   "outputs": [
    {
     "name": "stdout",
     "output_type": "stream",
     "text": [
      "[('city_name', 63)]\n"
     ]
    }
   ],
   "source": [
    "import pandas as pd\n",
    "df=pd.read_csv(\"restaurants.csv\")\n",
    "print([(\"city_name\", df[\"city_name\"].nunique())])"
   ]
  },
  {
   "cell_type": "markdown",
   "metadata": {},
   "source": [
    "Кол-во ресторанов специализации \"Рыба\"?"
   ]
  },
  {
   "cell_type": "code",
   "execution_count": 34,
   "metadata": {},
   "outputs": [
    {
     "name": "stdout",
     "output_type": "stream",
     "text": [
      "30\n"
     ]
    }
   ],
   "source": [
    "import pandas as pd\n",
    "df=pd.read_csv(\"restaurants.csv\")\n",
    "print(df[df['specialisation'] == \"Рыба\"][\"specialisation\"].count())"
   ]
  },
  {
   "cell_type": "markdown",
   "metadata": {},
   "source": [
    "Получить в общем среднее кол-во успешных заказов (ответ округлить до целого)."
   ]
  },
  {
   "cell_type": "code",
   "execution_count": 36,
   "metadata": {},
   "outputs": [
    {
     "name": "stdout",
     "output_type": "stream",
     "text": [
      "115.34438775510205\n"
     ]
    }
   ],
   "source": [
    "import pandas as pd\n",
    "df=pd.read_csv(\"restaurants.csv\")\n",
    "print(df[\"successful_orders\"].mean())"
   ]
  },
  {
   "cell_type": "markdown",
   "metadata": {},
   "source": [
    "Город с самым маленьким количеством ресторанов.\n"
   ]
  },
  {
   "cell_type": "code",
   "execution_count": 50,
   "metadata": {},
   "outputs": [
    {
     "name": "stdout",
     "output_type": "stream",
     "text": [
      "Ханты-Мансийск    2\n",
      "Name: city_name, dtype: int64\n"
     ]
    }
   ],
   "source": [
    "import pandas as pd\n",
    "df=pd.read_csv(\"restaurants.csv\")\n",
    "print(df[\"city_name\"].value_counts()[-1:])"
   ]
  },
  {
   "cell_type": "markdown",
   "metadata": {},
   "source": [
    "Сколько ресторанов имеют более 20 неуспешных заказов?\n"
   ]
  },
  {
   "cell_type": "code",
   "execution_count": 54,
   "metadata": {},
   "outputs": [
    {
     "name": "stdout",
     "output_type": "stream",
     "text": [
      "10\n"
     ]
    }
   ],
   "source": [
    "import pandas as pd\n",
    "df=pd.read_csv(\"restaurants.csv\")\n",
    "print(df.fail_orders[df[\"fail_orders\"]>20].count())"
   ]
  },
  {
   "cell_type": "markdown",
   "metadata": {},
   "source": [
    "Сколько ресторанов имеют более 20 неуспешных заказов и менее 500 успешных заказов?"
   ]
  },
  {
   "cell_type": "code",
   "execution_count": 57,
   "metadata": {},
   "outputs": [
    {
     "name": "stdout",
     "output_type": "stream",
     "text": [
      "5\n"
     ]
    }
   ],
   "source": [
    "import pandas as pd\n",
    "df=pd.read_csv(\"restaurants.csv\")\n",
    "print((df.fail_orders[(df[\"fail_orders\"]>20) & (df[\"successful_orders\"]<500)].count()))"
   ]
  },
  {
   "cell_type": "markdown",
   "metadata": {},
   "source": [
    "Среднее кол-во успешных заказов в ресторанах со специализацией \"Выпечка\" (ответ округлить до целого)."
   ]
  },
  {
   "cell_type": "code",
   "execution_count": 59,
   "metadata": {},
   "outputs": [
    {
     "name": "stdout",
     "output_type": "stream",
     "text": [
      "12.8\n"
     ]
    }
   ],
   "source": [
    "import pandas as pd\n",
    "df=pd.read_csv(\"restaurants.csv\")\n",
    "print(df.successful_orders[df['specialisation'] == \"Выпечка\"].mean())"
   ]
  },
  {
   "cell_type": "markdown",
   "metadata": {},
   "source": [
    "Какая специализация имеют самую высокую долю неуспешных заказов (все заказы по конкретному ресторану складываются из успешных, неуспешных заказов и перезаказов)?"
   ]
  },
  {
   "cell_type": "code",
   "execution_count": 62,
   "metadata": {},
   "outputs": [
    {
     "name": "stdout",
     "output_type": "stream",
     "text": [
      "Вегетарианское меню\n"
     ]
    }
   ],
   "source": [
    "import pandas as pd\n",
    "import numpy as np\n",
    "df=pd.read_csv(\"restaurants.csv\")\n",
    "a=0.0\n",
    "b=\"\"\n",
    "for it in np.unique(df['specialisation']):\n",
    "    s1= np.sum(df[df['specialisation']==it][\"successful_orders\"])\n",
    "    s2= np.sum(df[df['specialisation']==it][\"fail_orders\"])\n",
    "    s3= np.sum(df[df['specialisation']==it][\"reorders\"])\n",
    "    if(a<s2/(s1+s2+s3)):\n",
    "        a=s2/(s1+s2+s3)\n",
    "        b=it\n",
    "print(b)"
   ]
  },
  {
   "cell_type": "markdown",
   "metadata": {},
   "source": [
    "Максимальное количество успешных заказов в ресторане для специализации \"Бургеры\"."
   ]
  },
  {
   "cell_type": "code",
   "execution_count": 64,
   "metadata": {},
   "outputs": [
    {
     "name": "stdout",
     "output_type": "stream",
     "text": [
      "506.0\n"
     ]
    }
   ],
   "source": [
    "import pandas as pd\n",
    "df=pd.read_csv(\"restaurants.csv\")\n",
    "print(df[df['specialisation'] == \"Бургеры\"][\"successful_orders\"].max())"
   ]
  },
  {
   "cell_type": "markdown",
   "metadata": {},
   "source": [
    "Рассчитать среднее кол-во успешных заказов по специализации \"Суши\" в городе Белгород (ответ округлить до целого)."
   ]
  },
  {
   "cell_type": "code",
   "execution_count": 67,
   "metadata": {},
   "outputs": [
    {
     "name": "stdout",
     "output_type": "stream",
     "text": [
      "328.0\n"
     ]
    }
   ],
   "source": [
    "import pandas as pd\n",
    "df=pd.read_csv(\"restaurants.csv\")\n",
    "print((df.successful_orders[(df['specialisation'] == \"Суши\") & (df[\"city_name\"]==\"Белгород\")].mean()))"
   ]
  },
  {
   "cell_type": "markdown",
   "metadata": {},
   "source": [
    "Импортировать таблицу \"restaurant_scores.csv\". В исходную таблицу добавить новый столбец \"model_score\" из таблицы \"restaurant_scores\", соединив таблицы по логически подходящему столбцу (id и vendor_id)."
   ]
  },
  {
   "cell_type": "markdown",
   "metadata": {},
   "source": [
    "Какой средний model_score для chain_id 27399 (ответ округлить до 2 знаков после запятой)."
   ]
  },
  {
   "cell_type": "code",
   "execution_count": 78,
   "metadata": {},
   "outputs": [
    {
     "name": "stdout",
     "output_type": "stream",
     "text": [
      "0.6126930164173244\n"
     ]
    }
   ],
   "source": [
    "import pandas as pd\n",
    "df1=pd.read_csv(\"restaurants.csv\")\n",
    "df2=pd.read_csv(\"restaurant_scores.csv\")\n",
    "#print(df1.head())\n",
    "#print(df2.head())\n",
    "df=pd.merge(df1,df2,left_on='vendor_id', right_on='id')\n",
    "#print(df.head())\n",
    "print(df[df.chain_id==27399].model_score.mean())"
   ]
  },
  {
   "cell_type": "markdown",
   "metadata": {},
   "source": [
    "x = ['Java', 'Python', 'PHP', 'JavaScript', 'C#', 'C++']\n",
    "\n",
    "popularity = [22.2, 17.6, 8.8, 8, 7.7, 6.7]\n",
    "\n",
    "Получить следующую визуализацию:"
   ]
  },
  {
   "cell_type": "code",
   "execution_count": 110,
   "metadata": {},
   "outputs": [
    {
     "data": {
      "text/plain": [
       "Text(0, 0.5, 'Популярность')"
      ]
     },
     "execution_count": 110,
     "metadata": {},
     "output_type": "execute_result"
    },
    {
     "data": {
      "image/png": "[encoded data removed]",
      "text/plain": [
       "<Figure size 1008x360 with 1 Axes>"
      ]
     },
     "metadata": {
      "needs_background": "light"
     },
     "output_type": "display_data"
    }
   ],
   "source": [
    "%matplotlib inline\n",
    "import matplotlib.pyplot as plt\n",
    "import numpy as np\n",
    "import pandas as pd\n",
    "x = ['Java', 'Python', 'PHP', 'JavaScript', 'C#', 'C++']\n",
    "popularity = [22.2, 17.6, 8.8, 8, 7.7, 6.7]\n",
    "fig = plt.figure(figsize= (14,5))\n",
    "plt.bar(x, popularity)\n",
    "plt.title('Популярность языков программирования')\n",
    "plt.xlabel(\"Язык\")\n",
    "plt.ylabel(\"Популярность\")"
   ]
  },
  {
   "cell_type": "markdown",
   "metadata": {},
   "source": [
    "Используя лекционный файл partizan.xlsx получить следующую визуализацию:"
   ]
  },
  {
   "cell_type": "code",
   "execution_count": 115,
   "metadata": {},
   "outputs": [
    {
     "data": {
      "text/plain": [
       "Text(0.5, 0, 'Заказы')"
      ]
     },
     "execution_count": 115,
     "metadata": {},
     "output_type": "execute_result"
    },
    {
     "data": {
      "image/png": "[encoded data removed]",
      "text/plain": [
       "<Figure size 1440x720 with 2 Axes>"
      ]
     },
     "metadata": {
      "needs_background": "light"
     },
     "output_type": "display_data"
    }
   ],
   "source": [
    "%matplotlib inline\n",
    "import matplotlib.pyplot as plt\n",
    "import numpy as np\n",
    "import pandas as pd\n",
    "import pandas as pd\n",
    "import seaborn as sns\n",
    "df = pd.read_excel(\"partizan.xlsx\")\n",
    "fig = plt.figure(figsize= (20,10))                                                 \n",
    "ax1 = fig.add_subplot(211)                                         \n",
    "ax2 = fig.add_subplot(212)                                         \n",
    "\n",
    "f = sns.boxplot(df.orders, ax = ax1)                                  \n",
    "ax1.set_title(\"Распределение заказов в районе метро Партизанская\")\n",
    "\n",
    "sns.distplot(df.orders, ax = ax2)                                  \n",
    "ax2.set_xlabel(\"Заказы\") "
   ]
  }
 ],
 "metadata": {
  "kernelspec": {
   "display_name": "Python 3",
   "language": "python",
   "name": "python3"
  },
  "language_info": {
   "codemirror_mode": {
    "name": "ipython",
    "version": 3
   },
   "file_extension": ".py",
   "mimetype": "text/x-python",
   "name": "python",
   "nbconvert_exporter": "python",
   "pygments_lexer": "ipython3",
   "version": "3.7.3"
  }
 },
 "nbformat": 4,
 "nbformat_minor": 2
}
