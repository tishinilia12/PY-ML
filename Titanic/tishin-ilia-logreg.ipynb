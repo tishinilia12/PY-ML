{
 "cells": [
  {
   "cell_type": "code",
   "execution_count": 1,
   "metadata": {
    "_cell_guid": "b1076dfc-b9ad-4769-8c92-a6c4dae69d19",
    "_uuid": "8f2839f25d086af736a60e9eeb907d3b93b6e0e5"
   },
   "outputs": [
    {
     "ename": "NameError",
     "evalue": "name 'LabelEncoder' is not defined",
     "output_type": "error",
     "traceback": [
      "\u001b[0;31m---------------------------------------------------------------------------\u001b[0m",
      "\u001b[0;31mNameError\u001b[0m                                 Traceback (most recent call last)",
      "\u001b[0;32m<ipython-input-1-a4c2d57d92fd>\u001b[0m in \u001b[0;36m<module>\u001b[0;34m\u001b[0m\n\u001b[1;32m     11\u001b[0m \u001b[0;32mimport\u001b[0m \u001b[0mos\u001b[0m\u001b[0;34m\u001b[0m\u001b[0m\n\u001b[1;32m     12\u001b[0m \u001b[0;34m\u001b[0m\u001b[0m\n\u001b[0;32m---> 13\u001b[0;31m \u001b[0mlabel\u001b[0m\u001b[0;34m=\u001b[0m\u001b[0mLabelEncoder\u001b[0m\u001b[0;34m(\u001b[0m\u001b[0;34m)\u001b[0m\u001b[0;34m\u001b[0m\u001b[0m\n\u001b[0m\u001b[1;32m     14\u001b[0m \u001b[0;31m# Any results you write to the current directory are saved as output.\u001b[0m\u001b[0;34m\u001b[0m\u001b[0;34m\u001b[0m\u001b[0m\n\u001b[1;32m     15\u001b[0m \u001b[0msample\u001b[0m\u001b[0;34m=\u001b[0m \u001b[0mpd\u001b[0m\u001b[0;34m.\u001b[0m\u001b[0mread_csv\u001b[0m\u001b[0;34m(\u001b[0m\u001b[0;34m\"/kaggle/input/mai-ml-2019-linear-classification/sample_submission.csv\"\u001b[0m\u001b[0;34m)\u001b[0m\u001b[0;34m\u001b[0m\u001b[0m\n",
      "\u001b[0;31mNameError\u001b[0m: name 'LabelEncoder' is not defined"
     ]
    }
   ],
   "source": [
    "%matplotlib inline\n",
    "from sklearn.model_selection import GridSearchCV\n",
    "import matplotlib.pyplot as plt\n",
    "import numpy as np\n",
    "import pandas as pd\n",
    "import pandas as pd\n",
    "import seaborn as sns\n",
    "import math as mt\n",
    "from sklearn.linear_model import LogisticRegression\n",
    "from sklearn.neighbors import KNeighborsClassifier\n",
    "import os\n",
    "\n",
    "label=LabelEncoder()\n",
    "# Any results you write to the current directory are saved as output.\n",
    "sample= pd.read_csv(\"/kaggle/input/mai-ml-2019-linear-classification/sample_submission.csv\")\n",
    "train= pd.read_csv(\"/kaggle/input/mai-ml-2019-linear-classification/train.csv\")\n",
    "test= pd.read_csv(\"/kaggle/input/mai-ml-2019-linear-classification/test.csv\")\n",
    "full_data = [train, test]\n",
    "for data in full_data:\n",
    "    data['Fum']=data['SibSp']+data['Parch']\n",
    "    data['Sex']=data['Sex'].map( {'female': 1, 'male': 0} ).astype(int)\n",
    "    data['ChAge']=data[\"Age\"].apply(lambda x: 0 if mt.isnan(x) else 1)\n",
    "    data['Cabin'] = data[\"Cabin\"].apply(lambda x: 0 if type(x) == float else 1)\n",
    "    \n",
    "    data['Age'][np.isnan(data['Age'])]=data['Age'].mean()\n",
    "    avg = data['Age'].mean()\n",
    "    std = data['Age'].std()\n",
    "    null_count = data['Age'].isnull().sum()\n",
    "    null_random_list = np.random.randint(avg - std, avg + std, size=null_count)\n",
    "    \n",
    "    data['Age'][np.isnan(data['Age'])] = null_random_list\n",
    "    \n",
    "    data['ChFare']=data[\"Fare\"].apply(lambda x: 0 if mt.isnan(x) else 1)\n",
    "    data['Name'] = data['Name'].str.split(\", \", expand=True)[1].str.split(\".\", expand=True)[0]\n",
    "    data['Name'] = label.fit_transform(data['Name'])\n",
    "    \n",
    "    avg = data['Fare'].mean()\n",
    "    \n",
    "    std = data['Fare'].std()\n",
    "    null_count = data['Fare'].isnull().sum()\n",
    "    null_random_list = np.random.randint(avg - std, avg + std, size=null_count)\n",
    "    \n",
    "    data['Fare'][np.isnan(data['Fare'])] = null_random_list\n",
    "    data['Embarked1']=data['Embarked'].apply(lambda x: 0 if x == 'C' else 1)\n",
    "    data['Embarked']=data['Embarked'].apply(lambda x: 0 if x == 'Q' else 1)\n",
    "    data['Fare'] = pd.qcut(data['Fare'], 4)\n",
    "    data['Age'] = pd.cut(data['Age'].astype(int), 5)\n",
    "    data['Age'] = label.fit_transform(data['Age'])\n",
    "    data['Fare'] = label.fit_transform(data['Fare'])\n",
    "    \n",
    "drop_elements = [ 'Ticket','PassengerId']\n",
    "print(train.head())\n",
    "test1 = test.drop(drop_elements, axis = 1)\n",
    "train1 = train.drop(drop_elements, axis = 1)\n",
    "y_train = train1['Survived'].ravel()\n",
    "x_train = train1.drop(['Survived'], axis=1).values\n",
    "\n",
    "x_test=test1.values\n",
    "'''from sklearn.preprocessing import StandardScaler\n",
    "\n",
    "scaler = StandardScaler()\n",
    "scaler.fit(x_train)\n",
    "x_train = scaler.transform(x_train)\n",
    "x_test = scaler.transform(x_test)'''\n",
    "\n",
    "clf = LogisticRegression()\n",
    "params = {'penalty':['l1','l2'],'C':list(range(1,100,1)),'random_state':list(range(1,100,1))}\n",
    "logi = GridSearchCV(clf, param_grid= params, cv = 5,scoring = \"roc_auc\",verbose=1)\n",
    "logi.fit(x_train, y_train)\n",
    "\n",
    "result = logi.predict(x_test)\n",
    "test['Survived']=result\n",
    "\n",
    "#sns.countplot(x = 'Tmp', data = train, hue = 'Survived')\n",
    "#sns.countplot(x = 'Tmp', data = test, hue = 'Survived')\n",
    "#print(train.head())\n",
    "sample=test[['PassengerId','Survived']]\n",
    "sample.to_csv('sample.csv', index=False)\n"
   ]
  },
  {
   "cell_type": "code",
   "execution_count": null,
   "metadata": {
    "_cell_guid": "79c7e3d0-c299-4dcb-8224-4455121ee9b0",
    "_uuid": "d629ff2d2480ee46fbb7e2d37f6b5fab8052498a",
    "collapsed": true
   },
   "outputs": [],
   "source": []
  }
 ],
 "metadata": {
  "kernelspec": {
   "display_name": "Python 3",
   "language": "python",
   "name": "python3"
  },
  "language_info": {
   "codemirror_mode": {
    "name": "ipython",
    "version": 3
   },
   "file_extension": ".py",
   "mimetype": "text/x-python",
   "name": "python",
   "nbconvert_exporter": "python",
   "pygments_lexer": "ipython3",
   "version": "3.6.6"
  }
 },
 "nbformat": 4,
 "nbformat_minor": 1
}
