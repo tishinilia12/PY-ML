{
 "cells": [
  {
   "cell_type": "code",
   "execution_count": 1,
   "metadata": {},
   "outputs": [],
   "source": [
    "import pymorphy2\n",
    "import nltk\n",
    "import ujson as json\n",
    "import matplotlib.pyplot as plt\n",
    "import numpy as np\n",
    "import itertools\n",
    "import gzip\n",
    "\n",
    "from datetime import datetime\n",
    "\n",
    "from collections import Counter"
   ]
  },
  {
   "cell_type": "code",
   "execution_count": 2,
   "metadata": {},
   "outputs": [],
   "source": [
    "class Document:\n",
    "    def __init__(self, init_dict):\n",
    "        self.title = init_dict.get('title', '')\n",
    "        self.description = init_dict.get('description', '')\n",
    "        self.url = init_dict.get('url', '')\n",
    "        self.site = init_dict.get('site', '')\n",
    "        self.ts = datetime.fromtimestamp(init_dict['ts']) if 'ts' in init_dict else -1\n",
    "    \n",
    "    def __str__(self):\n",
    "        res = ''\n",
    "        res += 'url : %s\\n' % self.url\n",
    "        res += 'date : %s\\n' % self.ts\n",
    "        res += 'title : %s\\n' % self.title\n",
    "        res += 'description : %s\\n' % self.description\n",
    "        res += 'site : %s\\n' % self.site\n",
    "        return res"
   ]
  },
  {
   "cell_type": "code",
   "execution_count": 3,
   "metadata": {},
   "outputs": [
    {
     "name": "stdout",
     "output_type": "stream",
     "text": [
      "url : http://bloknot-volzhsky.ru/news/volzhane-mogut-podat-zayavlenie-na-letnie-putevki-\n",
      "date : 2019-11-30 18:26:10\n",
      "title : Волжане могут подать заявление на летние путевки для детей\n",
      "description : С понедельника заявления начинают принимать в МФЦ\n",
      "site : bloknot-volzhsky.ru\n",
      "\n",
      "url : https://trikky.ru/test-na-znanie-russkogo-yazyka-423354.html\n",
      "date : 2019-11-30 18:26:48\n",
      "title : 💗Тест на знание русского языка💗\n",
      "description : Тест со сложными и легкими вопросами. Для кого-то будет легко набрать все 100 баллов, а кому-то будет немного тяжело. В любом случае попробовать стоит.1. Что изучает фразеология? способы образования слов устойчивые сочетания слов части речи2. На месте каких цифр в словах пишется н? В простенке между занавеше(1)ыми окнами были установле(2)ы часы, а рядом с ними […]\n",
      "site : trikky.ru\n",
      "\n",
      "url : https://topwar.ru/165315-chernomorskij-flot-popolnilsja-150-tonnym-plavkranom-proekta-02690.html\n",
      "date : 2019-11-30 18:26:43\n",
      "title : Черноморский флот пополнился 150-тонным плавкраном проекта 02690\n",
      "description : Это второе судно данного проекта, поступившее на ЧФ\n",
      "site : topwar.ru\n",
      "\n",
      "url : https://matchtv.ru/football/rpl/matchtvvideo_NI1114411_translation_Ahmat___Rubin_Rossijskaja_Premjer_Liga_Tur_18\n",
      "date : 2019-11-30 18:26:14\n",
      "title : Ахмат - Рубин. Российская Премьер-Лига. Тур 18\n",
      "description : Прямая трансляция матча – 30 ноября. На ТВ: МАТЧ ПРЕМЬЕР. Эфир стартует в 18:25, начало игры в 19:00. Онлайн-трансляция доступна на сайте.\n",
      "site : matchtv.ru\n",
      "\n",
      "url : https://cubiq.ru/luchshie-igry-dlya-vr/\n",
      "date : 2019-11-30 18:26:11\n",
      "title : Лучшие игры для VR\n",
      "description : Сейчас VR игры уже не кажутся нам таким уж чудом техники, но еще не так давно мы и представить себе не могли, что попасть в любимую игровую вселенную можно будет практически в прямом смысле – как минимум, создать убедительное ощущение. Мы составили список лучших на наш взгляд игр для очков виртуальной реальности на ПК, PS4 и Xbox One.\n",
      "site : cubiq.ru\n",
      "\n",
      "url : https://rusturkey.com/post/207586/grazhdanka-rossii-vypala-s-balkona-7-go-etazha-v-antale\n",
      "date : 2019-11-30 18:26:11\n",
      "title : Гражданка России выпала с балкона 7-го этажа в Анталье\n",
      "description : Жизнь женщины не удалось спасти\n",
      "site : rusturkey.com\n",
      "\n",
      "url : https://2bitcoins.ru/vliyayut-li-fyuchersy-na-kurs-bitkoina/\n",
      "date : 2019-11-30 18:26:14\n",
      "title : Действительно ли фьючерсы влияют на курс Биткоина: ответ эксперта\n",
      "description : Один из первых Биткоин-максималистов и автор нескольких книг по теме криптовалют Андреас Антонопулос прокомментировал тему Биткоин-фьючерсов. По его словам, они действительно влияют на цену криптовалюты, но не так сильно, как многие думают. В интервью популярному YouTube-каналу Ivan on Tech энтузиаст...\n",
      "site : 2bitcoins.ru\n",
      "\n",
      "url : https://riavrn.ru/news/voronezhskiy-batutist-stal-prizerom-chempionata-mira/\n",
      "date : 2019-11-30 18:26:38\n",
      "title : Воронежский батутист стал призером чемпионата мира\n",
      "description : Сергей Азарян отличился в паре с Михаилом Мельником из Тольятти.\n",
      "site : riavrn.ru\n",
      "\n",
      "url : https://tengrinews.kz/events/krupnyiy-pojar-ohvatil-bannyiy-kompleks-u-podnojiya-kok-tobe-385419/\n",
      "date : 2019-11-30 18:22:16\n",
      "title : Крупный пожар охватил банный комплекс у подножия Кок-Тобе\n",
      "description : Крупный пожар охватил банный комплекс \"Царское село\", расположенный у подножия горы Кок-Тобе в Алматы вечером в субботу, 30 ноября, передает Tengrinews.kz.\n",
      "site : tengrinews.kz\n",
      "\n",
      "url : https://www.gazeta.ru/social/2019/11/30/12841130.shtml\n",
      "date : 2019-11-30 18:22:18\n",
      "title : Историка Соколова привезли в Москву на психиатрическую экспертизу\n",
      "description : Подозреваемого в убийстве аспирантки СПбГУ 63-летнего историка Олега Соколова доставили в Москву, где он пройдет психиатрическую экспертизу, сообщил «Газете.Ru\" его адвокат. Сторона защиты не стала раскрывать, где именно будет жить подозреваемый. Ранее стало известно, что дело об убийстве было передано в центральный аппарат СКР.\n",
      "site : gazeta.ru\n",
      "\n"
     ]
    }
   ],
   "source": [
    "fin = gzip.open('dataset_mai.jsonl.gz')\n",
    "for line in itertools.islice(fin, 10):\n",
    "    data = json.loads(line.strip())\n",
    "    print(Document(data))"
   ]
  },
  {
   "cell_type": "code",
   "execution_count": 213,
   "metadata": {},
   "outputs": [],
   "source": [
    "fin = gzip.open('dataset_mai.jsonl.gz')\n",
    "dataset = []\n",
    "dataset_test = []\n",
    "for line in itertools.islice(fin, 10000):\n",
    "    data = json.loads(line.strip())\n",
    "    dataset.append(Document(data))"
   ]
  },
  {
   "cell_type": "markdown",
   "metadata": {},
   "source": [
    "## ДЗ - реализовать поиск похожих документов по текстовым векторам и по word2vec векторам"
   ]
  },
  {
   "cell_type": "code",
   "execution_count": 1,
   "metadata": {},
   "outputs": [],
   "source": [
    "def get_word_match_most_similar_docs(a_doc, a_dataset, a_top_n=10):\n",
    "    pass\n",
    "\n",
    "def get_tf_idf_most_similar_doc(a_doc, a_dataset, a_top_n=10):\n",
    "    # для каждого документа строится вектор размерности словаря (аналогично random forest) и добавляется idf\n",
    "    # далее cosine между документами\n",
    "    pass\n",
    "\n",
    "def get_w2v_most_similar_doc(a_doc, a_dataset, a_top_n=10):\n",
    "    # считается средний вектор по всем словам (можно при усреднении учитывать idf)\n",
    "    pass"
   ]
  },
  {
   "cell_type": "code",
   "execution_count": null,
   "metadata": {},
   "outputs": [],
   "source": []
  },
  {
   "cell_type": "markdown",
   "metadata": {},
   "source": [
    "## Пример формата выдачи"
   ]
  },
  {
   "cell_type": "code",
   "execution_count": 308,
   "metadata": {},
   "outputs": [
    {
     "name": "stdout",
     "output_type": "stream",
     "text": [
      "Original Doc : url : https://cyber.sports.ru/dota2/1080755627.html\n",
      "date : 2019-11-30 18:26:39\n",
      "title : Результаты Parimatch League Dota 2. Virtus.pro победила\n",
      "description : 30 ноября завершился турнир Parimatch League. В финале Virtus.pro разгромила HellRaisers со счетом 3:0 и заработала 40 тысяч долларов. Лан-финал Parimatch League прошел с 28 по 30 ноября в Москве. 4 команды разыграли 70 тысяч долларов. Результаты команд 1. Virtus.pro2.\n",
      "site : cyber.sports.ru\n",
      "\n",
      "Similariry : 1.0\n",
      "url : https://cyber.sports.ru/dota2/1080755627.html\n",
      "date : 2019-11-30 18:26:39\n",
      "title : Результаты Parimatch League Dota 2. Virtus.pro победила\n",
      "description : 30 ноября завершился турнир Parimatch League. В финале Virtus.pro разгромила HellRaisers со счетом 3:0 и заработала 40 тысяч долларов. Лан-финал Parimatch League прошел с 28 по 30 ноября в Москве. 4 команды разыграли 70 тысяч долларов. Результаты команд 1. Virtus.pro2.\n",
      "site : cyber.sports.ru\n",
      "\n",
      "Similariry : 0.9709913695975815\n",
      "url : https://cyber.sports.ru/dota2/1080757051.html\n",
      "date : 2019-11-30 18:37:09\n",
      "title : Призовой фонд Parimatch League Dota 2\n",
      "description : 30 ноября в Москве завершился турнир Parimatch League. Призовой фонд турнира – 70 тысяч долларов. В финале Virtus.pro разгромила HellRaisers со счетом 3:0 и заработала 40 тысяч долларов. Распределение призовых 1. Virtus.pro – $40 0002. HellRaisers – $20 0003.\n",
      "site : cyber.sports.ru\n",
      "\n",
      "Similariry : 0.9631042740337348\n",
      "url : https://cyber.sports.ru/dota2/1080754953.html\n",
      "date : 2019-11-30 18:02:13\n",
      "title : Virtus.pro выиграла Parimatch League\n",
      "description : Virtus.pro обыграла HellRaisers со счетом 3:1 в финале Parimatch League. Virtus.pro заработала 40 тысяч долларов. Выигрыш HellRaisers – 20 тысяч долларов. Лан-финал Parimatch League прошел с 28 по 30 ноября в Москве. 4 команды разыграли 70 тысяч долларов. Как играть в Доту в патче 7.23? Пять простых советов В 7.23 Магнус увозит врагов на фонтан.\n",
      "site : cyber.sports.ru\n",
      "\n",
      "Similariry : 0.9496153421565298\n",
      "url : https://cyber.sports.ru/dota2/1080748946.html\n",
      "date : 2019-11-30 15:56:41\n",
      "title : Virtus.pro победила HellRaisers на первой карте финала лиги Parimatch\n",
      "description : Virtus.pro победила HellRaisers в первой игре гранд-финала Parimatch League. Матч закончился со счетом 22:22. Серия проходит в формате bo5. Победитель получит 40 тысяч долларов, проигравшая команда – 20 тысяч долларов. Лан-финал Parimatch League проходит с 28 по 30 ноября в Москве.\n",
      "site : cyber.sports.ru\n",
      "\n",
      "Similariry : 0.9258226547508713\n",
      "url : https://cyber.sports.ru/dota2/1080737838.html\n",
      "date : 2019-11-30 15:03:07\n",
      "title : Расписание Parimatch League на 30 ноября. Финал. Virtus.pro против HellRaisers\n",
      "description : Финал первого сезона Parimatch League проходит 28-30 ноября в Yota Arena. Четыре команды разыгрывают 75 тысяч долларов, победитель получит 40 тысяч. Список участников: Virtus.pro, Team Spirit, jfshfh178 и HellRaisers Состав Virtus.pro: epileptick1d, No[o]ne, Resolut1on, Save-, Solo, boolkСостав Team Spirit: iLTW, Ergon, Ghostik, Immersion, MishaСостав jfshfh178: Palantimos, Pikachu, Kazl, Bignum, HappyDyuraraСостав HellRaisers: Elmo, Nix, bowbowbow, sayuw, Miposhka Стрим ILTW не нажимал БКБ и погибал.\n",
      "site : cyber.sports.ru\n",
      "\n",
      "Similariry : 0.9169363008637909\n",
      "url : https://www.cybersport.ru/dota-2/news/virtus-pro-stala-chempionom-pervogo-sezona-parimatch-league\n",
      "date : 2019-11-30 18:02:07\n",
      "title : Virtus.pro стала чемпионом первого сезона Parimatch League\n",
      "description : Virtus.pro выиграла первый сезон Parimatch League по Dota 2. В финале соревнования команда Алексея Solo Березина одолела HellRaisers со счетом 3:0. VP заработала $40 тыс., а состав Ярослава Miposhka Найдёнова получил $20 тыс.\n",
      "site : cybersport.ru\n",
      "\n",
      "Similariry : 0.8738827768494369\n",
      "url : https://cyber.sports.ru/dota2/1080749658.html\n",
      "date : 2019-11-30 15:56:41\n",
      "title : Nix на Магнусе отвез Нуна на фонтан в гранд-финале Parimatch League\n",
      "description : HellRaisers играют с Virtus.pro в гранд-финале Parimatch League. На первой карте оффлейнер HR Александр «Nix» Левин на Магнусе отвез Владимира «No[o]ne» Миненко на свой фонтан. Матч проходит в формате bo5. Победитель заработает 40 тысяч долларов, проигравшая команда – 20 тысяч долларов.\n",
      "site : cyber.sports.ru\n",
      "\n",
      "Similariry : 0.8639216692416962\n",
      "url : https://www.cybersport.ru/dota-2/news/flytomoon-proshla-v-grand-final-otborochnykh-na-wesg-2019\n",
      "date : 2019-11-30 18:52:12\n",
      "title : FlyToMoon прошла в гранд-финал отборочных на WESG 2019\n",
      "description : FlyToMoon обыграла Natus Vincere в финале верхней сетки региональной квалификации на WESG 2019 по Dota 2. Команда Богдана Iceberg Василенко закончила матч со счетом 2:1 и прошла в гранд-финал чемпионата.\n",
      "site : cybersport.ru\n",
      "\n",
      "Similariry : 0.8622729233699287\n",
      "url : https://euro.com.ua/hockey/2019/11/30/boston-reindjers-3-2-ot-shestaia-podriad-pobeda-bruinz/\n",
      "date : 2019-11-30 19:16:43\n",
      "title : “Бостон” – “Рейнджерс” (3:2 ОТ): шестая подряд победа “Брюинз”\n",
      "description : «Бостон» – «Рейнджерс» Тодд Энджилли исполняет гимн, начало черной пятницы в НХЛ, альтернативная форма Бостона, 2019 NHL Thanksgiving Showdown📺📊 https://t.co/XPUqqNLCgr pic.twitter.com/47FnBv2U4A — NHL.RU (@nhlru) November 29, 2019 “Бостон” (18-3-5) проигрывал 0:2 во втором периоде, но сравнял счет и добыл два очка в овертайме, продлив победную серию до шести игр. Также “Брюинз”, успех которым принес Давид […]\n",
      "site : euro.com.ua\n",
      "\n",
      "Similariry : 0.8605215590710903\n",
      "url : https://bombardir.ru/news/592388-APL-Manchester-Siti-na-88-y-minute-upustil-pobedu-nad-Nyukaslom-no-podnyalsya-na-vtoroe-mesto%20e\n",
      "date : 2019-11-30 18:23:07\n",
      "title : АПЛ. «Манчестер Сити» на 88-й минуте упустил победу над «Ньюкаслом», но поднялся на второе место\n",
      "description : «Манчестер Сити» не смог в гостях обыграть «Ньюкасл». Ничью команде Стива Брюса принес полузащитник Джонджо Шелви. Несмотря на потерю очков, «Сити», действующий чемпион, поднялся на второе место в таблице. «Ньюкасл» идет 12-м. Чемпионат Англии. АПЛ. 14-й тур Ньюкасл – Манчестер Сити – 2:2 (1:1) Голы: 0:1 – Стерлинг, 22; 1:1 – Виллемс, 25; 1:2 – Де Брюйне, 82; 2:2 – Шелви, 88. Календарь АПЛ Турнирн\n",
      "site : bombardir.ru\n",
      "\n"
     ]
    }
   ],
   "source": [
    "get_ololo_most_similar_doc(dataset[13], w2v_dataset, dataset)"
   ]
  },
  {
   "cell_type": "markdown",
   "metadata": {},
   "source": [
    "#### Тестовые данные"
   ]
  },
  {
   "cell_type": "code",
   "execution_count": 2,
   "metadata": {},
   "outputs": [],
   "source": [
    "doc_id = 13 #dota2\n",
    "doc_id = 1946 #гороскоп\n",
    "doc_id = 3388 #хоккей\n",
    "doc_id = 7601 #телефоны"
   ]
  },
  {
   "cell_type": "code",
   "execution_count": null,
   "metadata": {},
   "outputs": [],
   "source": [
    "doc_id = 13 \n",
    "for similart_func in [get_word_match_most_similar_docs,  get_tf_idf_most_similar_doc, get_w2v_most_similar_doc]:\n",
    "    similart_func(dataset[doc_id], dataset)"
   ]
  },
  {
   "cell_type": "code",
   "execution_count": null,
   "metadata": {},
   "outputs": [],
   "source": [
    "doc_id = 1946 \n",
    "for similart_func in [get_word_match_most_similar_docs,  get_tf_idf_most_similar_doc, get_w2v_most_similar_doc]:\n",
    "    similart_func(dataset[doc_id], dataset)"
   ]
  },
  {
   "cell_type": "code",
   "execution_count": null,
   "metadata": {},
   "outputs": [],
   "source": [
    "doc_id = 3388 \n",
    "for similart_func in [get_word_match_most_similar_docs,  get_tf_idf_most_similar_doc, get_w2v_most_similar_doc]:\n",
    "    similart_func(dataset[doc_id], dataset)"
   ]
  },
  {
   "cell_type": "code",
   "execution_count": null,
   "metadata": {},
   "outputs": [],
   "source": [
    "doc_id = 7601\n",
    "for similart_func in [get_word_match_most_similar_docs,  get_tf_idf_most_similar_doc, get_w2v_most_similar_doc]:\n",
    "    similart_func(dataset[doc_id], dataset)"
   ]
  }
 ],
 "metadata": {
  "kernelspec": {
   "display_name": "Python 3",
   "language": "python",
   "name": "python3"
  },
  "language_info": {
   "codemirror_mode": {
    "name": "ipython",
    "version": 3
   },
   "file_extension": ".py",
   "mimetype": "text/x-python",
   "name": "python",
   "nbconvert_exporter": "python",
   "pygments_lexer": "ipython3",
   "version": "3.7.3"
  }
 },
 "nbformat": 4,
 "nbformat_minor": 2
}
