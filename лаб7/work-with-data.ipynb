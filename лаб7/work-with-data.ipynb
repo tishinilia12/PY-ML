{
 "cells": [
  {
   "cell_type": "markdown",
   "metadata": {},
   "source": [
    "Считывание и инициализация."
   ]
  },
  {
   "cell_type": "code",
   "execution_count": 6,
   "metadata": {
    "_cell_guid": "b1076dfc-b9ad-4769-8c92-a6c4dae69d19",
    "_uuid": "8f2839f25d086af736a60e9eeb907d3b93b6e0e5"
   },
   "outputs": [
    {
     "name": "stdout",
     "output_type": "stream",
     "text": [
      "672\n",
      "217\n"
     ]
    }
   ],
   "source": [
    "import warnings  \n",
    "warnings.filterwarnings('ignore')\n",
    "\n",
    "import pandas as pd\n",
    "import numpy as np\n",
    "import seaborn as sns\n",
    "import matplotlib.pyplot as plt\n",
    "%matplotlib inline\n",
    "\n",
    "from scipy.stats import skew\n",
    "from scipy.special import boxcox1p\n",
    "from scipy.stats import boxcox_normmax\n",
    "from sklearn.preprocessing import RobustScaler\n",
    "from sklearn.model_selection import cross_val_score\n",
    "from xgboost import XGBRegressor\n",
    "from sklearn.model_selection import GridSearchCV\n",
    "from catboost import CatBoostClassifier\n",
    "\n",
    "\n",
    "\n",
    "X_train = pd.read_csv('Train.csv')\n",
    "X_test = pd.read_csv('Test.csv')\n",
    "\n",
    "\n",
    "print(X_train['street_id'].nunique())\n",
    "print(X_train['area'].max())\n"
   ]
  },
  {
   "cell_type": "markdown",
   "metadata": {},
   "source": [
    "Работа с фичами."
   ]
  },
  {
   "cell_type": "code",
   "execution_count": 7,
   "metadata": {},
   "outputs": [
    {
     "name": "stdout",
     "output_type": "stream",
     "text": [
      "[100000 100001 100002 ... 199997 199998 199999]\n"
     ]
    }
   ],
   "source": [
    "test_index=X_test['id'].values\n",
    "print(test_index)\n",
    "y=X_train.price\n",
    "X_train.drop(['price'], axis=1, inplace=True)\n",
    "def onehot(df,n,name):\n",
    "    for i in range(n):\n",
    "        df[name+str(i)]=df[name].apply(lambda x: 1 if x==i else 0)\n",
    "    return df\n",
    "def featureProcessing(df):\n",
    "    df.drop(['id'], axis=1, inplace=True)\n",
    "    df['Y']=df['date'].apply(lambda x: int(x.split('-')[0]))\n",
    "    df['M']=df['date'].apply(lambda x: int(x.split('-')[1]))\n",
    "    df.drop(['date'], axis=1, inplace=True)\n",
    "    df=onehot(df,250,'area')\n",
    "    df.drop(['area'], axis=1, inplace=True)\n",
    "    return df\n",
    "X_train=featureProcessing(X_train)\n",
    "X_test=featureProcessing(X_test)"
   ]
  },
  {
   "cell_type": "markdown",
   "metadata": {},
   "source": [
    "Обучение модели"
   ]
  },
  {
   "cell_type": "code",
   "execution_count": 10,
   "metadata": {},
   "outputs": [],
   "source": [
    "model_XGB = XGBRegressor(n_estimators=5000, learning_rate=0.055, objective=\"reg:squarederror\", n_jobs=-1, random_state=0)\n",
    "\n",
    "model_XGB.fit(X_train, np.log1p(y))\n",
    "\n",
    "ensemble_preds = model_XGB.predict(X_test)"
   ]
  },
  {
   "cell_type": "code",
   "execution_count": 11,
   "metadata": {},
   "outputs": [],
   "source": [
    "preds = np.expm1(ensemble_preds)\n",
    "\n",
    "output = pd.DataFrame({'id': test_index,\n",
    "                      'price': preds})\n",
    "\n",
    "output.to_csv('submission.csv', index=False)"
   ]
  }
 ],
 "metadata": {
  "kernelspec": {
   "display_name": "Python 3",
   "language": "python",
   "name": "python3"
  },
  "language_info": {
   "codemirror_mode": {
    "name": "ipython",
    "version": 3
   },
   "file_extension": ".py",
   "mimetype": "text/x-python",
   "name": "python",
   "nbconvert_exporter": "python",
   "pygments_lexer": "ipython3",
   "version": "3.7.3"
  }
 },
 "nbformat": 4,
 "nbformat_minor": 1
}
